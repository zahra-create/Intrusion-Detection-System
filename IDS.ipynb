{
 "cells": [
  {
   "cell_type": "markdown",
   "id": "7142d90f-489c-42a4-ad64-398595f9fa5f",
   "metadata": {},
   "source": [
    "# Tools"
   ]
  },
  {
   "cell_type": "code",
   "execution_count": 204,
   "id": "7b824198-d637-4046-82f1-73196af03d52",
   "metadata": {},
   "outputs": [],
   "source": [
    "import pandas as pd\n",
    "import numpy as np\n",
    "from sklearn.preprocessing import OneHotEncoder, StandardScaler\n",
    "from sklearn.compose import ColumnTransformer\n",
    "from sklearn.model_selection import train_test_split\n",
    "import statsmodels.api as sm\n",
    "from scipy.stats import zscore\n",
    "from sklearn.decomposition import PCA\n",
    "from sklearn.linear_model import LogisticRegression\n",
    "from sklearn.metrics import f1_score\n",
    "from sklearn.metrics import accuracy_score"
   ]
  },
  {
   "cell_type": "markdown",
   "id": "98dfbfbe-dda8-476a-95a7-528c58ed6105",
   "metadata": {},
   "source": [
    "# I- Data Preprocessing"
   ]
  },
  {
   "cell_type": "markdown",
   "id": "4f196acf-bd6a-47fc-ba9b-8b395ce16975",
   "metadata": {},
   "source": [
    "## Step 1 : Loading Dataset"
   ]
  },
  {
   "cell_type": "code",
   "execution_count": 187,
   "id": "5f7f9392-f4e2-496b-9dc8-2660b8c73715",
   "metadata": {
    "scrolled": true
   },
   "outputs": [
    {
     "data": {
      "text/html": [
       "<div>\n",
       "<style scoped>\n",
       "    .dataframe tbody tr th:only-of-type {\n",
       "        vertical-align: middle;\n",
       "    }\n",
       "\n",
       "    .dataframe tbody tr th {\n",
       "        vertical-align: top;\n",
       "    }\n",
       "\n",
       "    .dataframe thead th {\n",
       "        text-align: right;\n",
       "    }\n",
       "</style>\n",
       "<table border=\"1\" class=\"dataframe\">\n",
       "  <thead>\n",
       "    <tr style=\"text-align: right;\">\n",
       "      <th></th>\n",
       "      <th>duration</th>\n",
       "      <th>protocol_type</th>\n",
       "      <th>service</th>\n",
       "      <th>flag</th>\n",
       "      <th>src_bytes</th>\n",
       "      <th>dst_bytes</th>\n",
       "      <th>land</th>\n",
       "      <th>wrong_fragment</th>\n",
       "      <th>urgent</th>\n",
       "      <th>hot</th>\n",
       "      <th>...</th>\n",
       "      <th>dst_host_srv_count</th>\n",
       "      <th>dst_host_same_srv_rate</th>\n",
       "      <th>dst_host_diff_srv_rate</th>\n",
       "      <th>dst_host_same_src_port_rate</th>\n",
       "      <th>dst_host_srv_diff_host_rate</th>\n",
       "      <th>dst_host_serror_rate</th>\n",
       "      <th>dst_host_srv_serror_rate</th>\n",
       "      <th>dst_host_rerror_rate</th>\n",
       "      <th>dst_host_srv_rerror_rate</th>\n",
       "      <th>target</th>\n",
       "    </tr>\n",
       "  </thead>\n",
       "  <tbody>\n",
       "    <tr>\n",
       "      <th>0</th>\n",
       "      <td>5</td>\n",
       "      <td>tcp</td>\n",
       "      <td>smtp</td>\n",
       "      <td>SF</td>\n",
       "      <td>2429</td>\n",
       "      <td>475</td>\n",
       "      <td>0</td>\n",
       "      <td>0</td>\n",
       "      <td>0</td>\n",
       "      <td>0</td>\n",
       "      <td>...</td>\n",
       "      <td>57</td>\n",
       "      <td>0.11</td>\n",
       "      <td>0.02</td>\n",
       "      <td>0.01</td>\n",
       "      <td>0.04</td>\n",
       "      <td>0.00</td>\n",
       "      <td>0.0</td>\n",
       "      <td>0.87</td>\n",
       "      <td>0.0</td>\n",
       "      <td>normal</td>\n",
       "    </tr>\n",
       "    <tr>\n",
       "      <th>1</th>\n",
       "      <td>0</td>\n",
       "      <td>udp</td>\n",
       "      <td>domain_u</td>\n",
       "      <td>SF</td>\n",
       "      <td>45</td>\n",
       "      <td>134</td>\n",
       "      <td>0</td>\n",
       "      <td>0</td>\n",
       "      <td>0</td>\n",
       "      <td>0</td>\n",
       "      <td>...</td>\n",
       "      <td>155</td>\n",
       "      <td>0.80</td>\n",
       "      <td>0.02</td>\n",
       "      <td>0.01</td>\n",
       "      <td>0.00</td>\n",
       "      <td>0.00</td>\n",
       "      <td>0.0</td>\n",
       "      <td>0.00</td>\n",
       "      <td>0.0</td>\n",
       "      <td>normal</td>\n",
       "    </tr>\n",
       "    <tr>\n",
       "      <th>2</th>\n",
       "      <td>0</td>\n",
       "      <td>udp</td>\n",
       "      <td>domain_u</td>\n",
       "      <td>SF</td>\n",
       "      <td>45</td>\n",
       "      <td>80</td>\n",
       "      <td>0</td>\n",
       "      <td>0</td>\n",
       "      <td>0</td>\n",
       "      <td>0</td>\n",
       "      <td>...</td>\n",
       "      <td>255</td>\n",
       "      <td>1.00</td>\n",
       "      <td>0.00</td>\n",
       "      <td>0.01</td>\n",
       "      <td>0.00</td>\n",
       "      <td>0.00</td>\n",
       "      <td>0.0</td>\n",
       "      <td>0.00</td>\n",
       "      <td>0.0</td>\n",
       "      <td>normal</td>\n",
       "    </tr>\n",
       "    <tr>\n",
       "      <th>3</th>\n",
       "      <td>1979</td>\n",
       "      <td>udp</td>\n",
       "      <td>other</td>\n",
       "      <td>SF</td>\n",
       "      <td>145</td>\n",
       "      <td>105</td>\n",
       "      <td>0</td>\n",
       "      <td>0</td>\n",
       "      <td>0</td>\n",
       "      <td>0</td>\n",
       "      <td>...</td>\n",
       "      <td>2</td>\n",
       "      <td>0.01</td>\n",
       "      <td>0.84</td>\n",
       "      <td>1.00</td>\n",
       "      <td>0.00</td>\n",
       "      <td>0.00</td>\n",
       "      <td>0.0</td>\n",
       "      <td>0.00</td>\n",
       "      <td>0.0</td>\n",
       "      <td>normal</td>\n",
       "    </tr>\n",
       "    <tr>\n",
       "      <th>4</th>\n",
       "      <td>14462</td>\n",
       "      <td>tcp</td>\n",
       "      <td>other</td>\n",
       "      <td>RSTR</td>\n",
       "      <td>1</td>\n",
       "      <td>0</td>\n",
       "      <td>0</td>\n",
       "      <td>0</td>\n",
       "      <td>0</td>\n",
       "      <td>0</td>\n",
       "      <td>...</td>\n",
       "      <td>2</td>\n",
       "      <td>0.01</td>\n",
       "      <td>0.68</td>\n",
       "      <td>1.00</td>\n",
       "      <td>0.00</td>\n",
       "      <td>0.00</td>\n",
       "      <td>0.0</td>\n",
       "      <td>1.00</td>\n",
       "      <td>1.0</td>\n",
       "      <td>portsweep</td>\n",
       "    </tr>\n",
       "    <tr>\n",
       "      <th>...</th>\n",
       "      <td>...</td>\n",
       "      <td>...</td>\n",
       "      <td>...</td>\n",
       "      <td>...</td>\n",
       "      <td>...</td>\n",
       "      <td>...</td>\n",
       "      <td>...</td>\n",
       "      <td>...</td>\n",
       "      <td>...</td>\n",
       "      <td>...</td>\n",
       "      <td>...</td>\n",
       "      <td>...</td>\n",
       "      <td>...</td>\n",
       "      <td>...</td>\n",
       "      <td>...</td>\n",
       "      <td>...</td>\n",
       "      <td>...</td>\n",
       "      <td>...</td>\n",
       "      <td>...</td>\n",
       "      <td>...</td>\n",
       "      <td>...</td>\n",
       "    </tr>\n",
       "    <tr>\n",
       "      <th>22539</th>\n",
       "      <td>0</td>\n",
       "      <td>tcp</td>\n",
       "      <td>private</td>\n",
       "      <td>REJ</td>\n",
       "      <td>0</td>\n",
       "      <td>0</td>\n",
       "      <td>0</td>\n",
       "      <td>0</td>\n",
       "      <td>0</td>\n",
       "      <td>0</td>\n",
       "      <td>...</td>\n",
       "      <td>1</td>\n",
       "      <td>0.00</td>\n",
       "      <td>1.00</td>\n",
       "      <td>0.00</td>\n",
       "      <td>0.00</td>\n",
       "      <td>0.09</td>\n",
       "      <td>0.0</td>\n",
       "      <td>0.91</td>\n",
       "      <td>1.0</td>\n",
       "      <td>satan</td>\n",
       "    </tr>\n",
       "    <tr>\n",
       "      <th>22540</th>\n",
       "      <td>0</td>\n",
       "      <td>tcp</td>\n",
       "      <td>http</td>\n",
       "      <td>SF</td>\n",
       "      <td>254</td>\n",
       "      <td>2277</td>\n",
       "      <td>0</td>\n",
       "      <td>0</td>\n",
       "      <td>0</td>\n",
       "      <td>0</td>\n",
       "      <td>...</td>\n",
       "      <td>255</td>\n",
       "      <td>1.00</td>\n",
       "      <td>0.00</td>\n",
       "      <td>0.04</td>\n",
       "      <td>0.04</td>\n",
       "      <td>0.00</td>\n",
       "      <td>0.0</td>\n",
       "      <td>0.00</td>\n",
       "      <td>0.0</td>\n",
       "      <td>normal</td>\n",
       "    </tr>\n",
       "    <tr>\n",
       "      <th>22541</th>\n",
       "      <td>0</td>\n",
       "      <td>tcp</td>\n",
       "      <td>private</td>\n",
       "      <td>S0</td>\n",
       "      <td>0</td>\n",
       "      <td>0</td>\n",
       "      <td>0</td>\n",
       "      <td>0</td>\n",
       "      <td>0</td>\n",
       "      <td>0</td>\n",
       "      <td>...</td>\n",
       "      <td>25</td>\n",
       "      <td>0.10</td>\n",
       "      <td>0.07</td>\n",
       "      <td>0.00</td>\n",
       "      <td>0.00</td>\n",
       "      <td>1.00</td>\n",
       "      <td>1.0</td>\n",
       "      <td>0.00</td>\n",
       "      <td>0.0</td>\n",
       "      <td>neptune</td>\n",
       "    </tr>\n",
       "    <tr>\n",
       "      <th>22542</th>\n",
       "      <td>0</td>\n",
       "      <td>tcp</td>\n",
       "      <td>private</td>\n",
       "      <td>RSTR</td>\n",
       "      <td>0</td>\n",
       "      <td>0</td>\n",
       "      <td>0</td>\n",
       "      <td>0</td>\n",
       "      <td>0</td>\n",
       "      <td>0</td>\n",
       "      <td>...</td>\n",
       "      <td>1</td>\n",
       "      <td>0.00</td>\n",
       "      <td>0.58</td>\n",
       "      <td>0.57</td>\n",
       "      <td>0.00</td>\n",
       "      <td>0.00</td>\n",
       "      <td>0.0</td>\n",
       "      <td>0.58</td>\n",
       "      <td>1.0</td>\n",
       "      <td>portsweep</td>\n",
       "    </tr>\n",
       "    <tr>\n",
       "      <th>22543</th>\n",
       "      <td>0</td>\n",
       "      <td>udp</td>\n",
       "      <td>domain_u</td>\n",
       "      <td>SF</td>\n",
       "      <td>44</td>\n",
       "      <td>129</td>\n",
       "      <td>0</td>\n",
       "      <td>0</td>\n",
       "      <td>0</td>\n",
       "      <td>0</td>\n",
       "      <td>...</td>\n",
       "      <td>255</td>\n",
       "      <td>1.00</td>\n",
       "      <td>0.00</td>\n",
       "      <td>0.00</td>\n",
       "      <td>0.00</td>\n",
       "      <td>0.00</td>\n",
       "      <td>0.0</td>\n",
       "      <td>0.00</td>\n",
       "      <td>0.0</td>\n",
       "      <td>normal</td>\n",
       "    </tr>\n",
       "  </tbody>\n",
       "</table>\n",
       "<p>22544 rows × 42 columns</p>\n",
       "</div>"
      ],
      "text/plain": [
       "       duration protocol_type   service  flag  src_bytes  dst_bytes  land  \\\n",
       "0             5           tcp      smtp    SF       2429        475     0   \n",
       "1             0           udp  domain_u    SF         45        134     0   \n",
       "2             0           udp  domain_u    SF         45         80     0   \n",
       "3          1979           udp     other    SF        145        105     0   \n",
       "4         14462           tcp     other  RSTR          1          0     0   \n",
       "...         ...           ...       ...   ...        ...        ...   ...   \n",
       "22539         0           tcp   private   REJ          0          0     0   \n",
       "22540         0           tcp      http    SF        254       2277     0   \n",
       "22541         0           tcp   private    S0          0          0     0   \n",
       "22542         0           tcp   private  RSTR          0          0     0   \n",
       "22543         0           udp  domain_u    SF         44        129     0   \n",
       "\n",
       "       wrong_fragment  urgent  hot  ...  dst_host_srv_count  \\\n",
       "0                   0       0    0  ...                  57   \n",
       "1                   0       0    0  ...                 155   \n",
       "2                   0       0    0  ...                 255   \n",
       "3                   0       0    0  ...                   2   \n",
       "4                   0       0    0  ...                   2   \n",
       "...               ...     ...  ...  ...                 ...   \n",
       "22539               0       0    0  ...                   1   \n",
       "22540               0       0    0  ...                 255   \n",
       "22541               0       0    0  ...                  25   \n",
       "22542               0       0    0  ...                   1   \n",
       "22543               0       0    0  ...                 255   \n",
       "\n",
       "       dst_host_same_srv_rate  dst_host_diff_srv_rate  \\\n",
       "0                        0.11                    0.02   \n",
       "1                        0.80                    0.02   \n",
       "2                        1.00                    0.00   \n",
       "3                        0.01                    0.84   \n",
       "4                        0.01                    0.68   \n",
       "...                       ...                     ...   \n",
       "22539                    0.00                    1.00   \n",
       "22540                    1.00                    0.00   \n",
       "22541                    0.10                    0.07   \n",
       "22542                    0.00                    0.58   \n",
       "22543                    1.00                    0.00   \n",
       "\n",
       "       dst_host_same_src_port_rate  dst_host_srv_diff_host_rate  \\\n",
       "0                             0.01                         0.04   \n",
       "1                             0.01                         0.00   \n",
       "2                             0.01                         0.00   \n",
       "3                             1.00                         0.00   \n",
       "4                             1.00                         0.00   \n",
       "...                            ...                          ...   \n",
       "22539                         0.00                         0.00   \n",
       "22540                         0.04                         0.04   \n",
       "22541                         0.00                         0.00   \n",
       "22542                         0.57                         0.00   \n",
       "22543                         0.00                         0.00   \n",
       "\n",
       "       dst_host_serror_rate  dst_host_srv_serror_rate  dst_host_rerror_rate  \\\n",
       "0                      0.00                       0.0                  0.87   \n",
       "1                      0.00                       0.0                  0.00   \n",
       "2                      0.00                       0.0                  0.00   \n",
       "3                      0.00                       0.0                  0.00   \n",
       "4                      0.00                       0.0                  1.00   \n",
       "...                     ...                       ...                   ...   \n",
       "22539                  0.09                       0.0                  0.91   \n",
       "22540                  0.00                       0.0                  0.00   \n",
       "22541                  1.00                       1.0                  0.00   \n",
       "22542                  0.00                       0.0                  0.58   \n",
       "22543                  0.00                       0.0                  0.00   \n",
       "\n",
       "       dst_host_srv_rerror_rate     target  \n",
       "0                           0.0     normal  \n",
       "1                           0.0     normal  \n",
       "2                           0.0     normal  \n",
       "3                           0.0     normal  \n",
       "4                           1.0  portsweep  \n",
       "...                         ...        ...  \n",
       "22539                       1.0      satan  \n",
       "22540                       0.0     normal  \n",
       "22541                       0.0    neptune  \n",
       "22542                       1.0  portsweep  \n",
       "22543                       0.0     normal  \n",
       "\n",
       "[22544 rows x 42 columns]"
      ]
     },
     "execution_count": 187,
     "metadata": {},
     "output_type": "execute_result"
    }
   ],
   "source": [
    "dataset = pd.DataFrame(pd.read_csv('kdd_train.csv'))\n",
    "dataset"
   ]
  },
  {
   "cell_type": "markdown",
   "id": "1d51e290-acb7-49af-a5a4-87bf2f95034a",
   "metadata": {},
   "source": [
    "## Step 2 : Creating Dependant & Independant variable vecrtors"
   ]
  },
  {
   "cell_type": "code",
   "execution_count": 188,
   "id": "c9e6c84b-337c-4c6c-abdf-b66ff03afd01",
   "metadata": {},
   "outputs": [],
   "source": [
    "# creating the Independant variable\n",
    "x = dataset.iloc[:,:-1]\n",
    "\n",
    "#creating the Dependant variable\n",
    "y = dataset.iloc[:,-1]\n"
   ]
  },
  {
   "cell_type": "markdown",
   "id": "fc2dd132-2f74-41db-9985-a6968b80b9e7",
   "metadata": {},
   "source": [
    "## Step 3 : Handling missing values"
   ]
  },
  {
   "cell_type": "code",
   "execution_count": 189,
   "id": "5d911851-fbfb-4b67-80b4-603f6157d1d3",
   "metadata": {},
   "outputs": [
    {
     "name": "stdout",
     "output_type": "stream",
     "text": [
      "Luckily! No missing values were found, we can proceed confidently without the need to handle missing values ^-^\n"
     ]
    }
   ],
   "source": [
    "# let's check if there are missing values in our KDD dataset \n",
    "for column in dataset.isnull() :\n",
    "    if True in dataset.isnull()[column]:\n",
    "        print('there is a missing value')\n",
    "        break\n",
    "print('Luckily! No missing values were found, we can proceed confidently without the need to handle missing values ^-^')"
   ]
  },
  {
   "cell_type": "markdown",
   "id": "d7dc381d-8f1f-4370-9d67-8c09f28c9ed2",
   "metadata": {},
   "source": [
    "#### Since there are no missing values in the KDD dataset, we don't have to address any missing values problem"
   ]
  },
  {
   "cell_type": "markdown",
   "id": "9197ebb8-4e3a-4317-9e63-01060c70707a",
   "metadata": {},
   "source": [
    "## Step 4 : Converting categorical data to numeric "
   ]
  },
  {
   "cell_type": "markdown",
   "id": "8825fd9a-46a7-40ee-8470-e81a957bf304",
   "metadata": {},
   "source": [
    "#### Features Transfromation "
   ]
  },
  {
   "cell_type": "code",
   "execution_count": 190,
   "id": "d3ef2373-bbc6-470b-8a42-979bf382aa08",
   "metadata": {},
   "outputs": [
    {
     "name": "stdout",
     "output_type": "stream",
     "text": [
      "Index(['protocol_type', 'service', 'flag'], dtype='object')\n"
     ]
    }
   ],
   "source": [
    "# selecting the categorical columns\n",
    "categorical_data = x.select_dtypes(include = ['object']).columns\n",
    "print(categorical_data)"
   ]
  },
  {
   "cell_type": "code",
   "execution_count": 191,
   "id": "52b935eb-b6d5-4c0d-88c1-e3605cdef1e0",
   "metadata": {
    "scrolled": true
   },
   "outputs": [],
   "source": [
    "# applying the OneHotEncoder\n",
    "OHE = OneHotEncoder()\n",
    "transformer = ColumnTransformer(transformers = [('OneHot',OHE, categorical_data)], remainder='passthrough')\n",
    "x=pd.DataFrame(transformer.fit_transform(x))"
   ]
  },
  {
   "cell_type": "markdown",
   "id": "6bbb9efc-eda4-41f2-a42d-47adc0e3fdd3",
   "metadata": {},
   "source": [
    "#### Target variable transformation "
   ]
  },
  {
   "cell_type": "code",
   "execution_count": 192,
   "id": "4ea9b73f-d8c2-4b73-8b04-6980400596ad",
   "metadata": {},
   "outputs": [],
   "source": [
    "#  Transform the target variable to retain only binary value\n",
    "y = np.array(y.apply(lambda x:1 if x =='normal' else 0))"
   ]
  },
  {
   "cell_type": "markdown",
   "id": "e1236d19-054f-4544-88aa-6c8c7313676c",
   "metadata": {},
   "source": [
    "## Step 5 : Handling Outliers"
   ]
  },
  {
   "cell_type": "code",
   "execution_count": 193,
   "id": "0707c64e-3121-411e-a56d-7d2769514086",
   "metadata": {},
   "outputs": [],
   "source": [
    "for column in x.columns:\n",
    "    # Calculate z-scores for the current variable\n",
    "    z_scores = zscore(x[column])\n",
    "    \n",
    "    # Flag potential outliers using a threshold (e.g., z-score > 3 or < -3)\n",
    "    outliers = (z_scores > 3) | (z_scores < -3)\n",
    "    \n",
    "    # Optionally, correct outliers automatically\n",
    "    x.loc[outliers, column] = x[column].median()"
   ]
  },
  {
   "cell_type": "markdown",
   "id": "9cd6888a-898b-4109-ab32-ace1e27dfc30",
   "metadata": {},
   "source": [
    "## Step 6 : Scaling Data"
   ]
  },
  {
   "cell_type": "code",
   "execution_count": 194,
   "id": "a1706224-e3ff-4fa6-aead-9751e038cf17",
   "metadata": {},
   "outputs": [],
   "source": [
    "scaler = StandardScaler()\n",
    "x = np.array(scaler.fit_transform(x))"
   ]
  },
  {
   "cell_type": "markdown",
   "id": "bac52a68-9b17-44f2-a48e-e073fb63259f",
   "metadata": {},
   "source": [
    "## Step 7 : Dimentionnality Reduction "
   ]
  },
  {
   "cell_type": "code",
   "execution_count": 195,
   "id": "fb6d1e41-ffe0-4c19-b870-cc8d992048aa",
   "metadata": {},
   "outputs": [],
   "source": [
    "# Apply PCA\n",
    "pca = PCA()\n",
    "x = pca.fit_transform(x)\n",
    "#\n",
    "cumulative_variance_ratio = np.cumsum(pca.explained_variance_ratio_)\n",
    "num_components = np.argmax(cumulative_variance_ratio >= 0.9) + 1\n",
    "# Use selected principal components in regression\n",
    "x = x[:, :num_components]"
   ]
  },
  {
   "cell_type": "markdown",
   "id": "c4a09861-3dc2-4cf8-9d7c-f38fb48fba03",
   "metadata": {},
   "source": [
    "## Step 8 : Spliting data into Train and Test Set"
   ]
  },
  {
   "cell_type": "code",
   "execution_count": 196,
   "id": "984d34f0-9aa8-40fa-a409-23286bd39612",
   "metadata": {},
   "outputs": [
    {
     "name": "stdout",
     "output_type": "stream",
     "text": [
      "[[-4.9381376  -2.39605519 -0.33599303 ... -1.21490766  0.1948184\n",
      "  -0.14070107]\n",
      " [ 0.6942674  -0.15552494  4.17006864 ... -1.28555347  0.16781503\n",
      "  -0.25236066]\n",
      " [-2.68855258 -1.90406791  0.35254544 ... -1.82515647 -0.93400436\n",
      "  -0.21547686]\n",
      " ...\n",
      " [ 1.87034757 -0.59628603  4.13561908 ...  0.5505337   0.86764801\n",
      "  -0.01553987]\n",
      " [ 0.4573271   0.61885241  6.36198353 ... -3.00823474  1.04506022\n",
      "  -1.30369468]\n",
      " [ 2.77110793 -0.62026949 -1.42536792 ...  0.03360618 -0.39910744\n",
      "  -0.10995598]]\n"
     ]
    }
   ],
   "source": [
    "x_train, x_test, y_train, y_test = train_test_split(x,y,test_size=0.2)\n",
    "print(x_train)"
   ]
  },
  {
   "cell_type": "markdown",
   "id": "f9b11881-9b85-409a-b3be-9b4480645a75",
   "metadata": {},
   "source": [
    "# II- Logistic Regression Model"
   ]
  },
  {
   "cell_type": "markdown",
   "id": "e2f296ea-d01b-4cb5-920d-b403aca9d413",
   "metadata": {},
   "source": [
    "## Step 1 : The significance of the model & the features "
   ]
  },
  {
   "cell_type": "code",
   "execution_count": 197,
   "id": "faea21ca-a12b-451f-953a-4c9bf2b31e94",
   "metadata": {
    "scrolled": true
   },
   "outputs": [
    {
     "name": "stdout",
     "output_type": "stream",
     "text": [
      "Optimization terminated successfully.\n",
      "         Current function value: 0.250766\n",
      "         Iterations 9\n",
      "                           Logit Regression Results                           \n",
      "==============================================================================\n",
      "Dep. Variable:                      y   No. Observations:                18035\n",
      "Model:                          Logit   Df Residuals:                    18019\n",
      "Method:                           MLE   Df Model:                           15\n",
      "Date:                Sun, 21 Apr 2024   Pseudo R-squ.:                  0.6382\n",
      "Time:                        19:00:23   Log-Likelihood:                -4522.6\n",
      "converged:                       True   LL-Null:                       -12501.\n",
      "Covariance Type:            nonrobust   LLR p-value:                     0.000\n",
      "==============================================================================\n",
      "                 coef    std err          z      P>|z|      [0.025      0.975]\n",
      "------------------------------------------------------------------------------\n",
      "x1             1.1097      0.020     55.898      0.000       1.071       1.149\n",
      "x2            -0.1245      0.016     -7.860      0.000      -0.155      -0.093\n",
      "x3            -0.2757      0.016    -17.720      0.000      -0.306      -0.245\n",
      "x4            -0.3962      0.018    -22.134      0.000      -0.431      -0.361\n",
      "x5             0.0265      0.023      1.152      0.249      -0.019       0.072\n",
      "x6            -0.4516      0.028    -15.957      0.000      -0.507      -0.396\n",
      "x7             0.6333      0.036     17.757      0.000       0.563       0.703\n",
      "x8            -0.3671      0.032    -11.619      0.000      -0.429      -0.305\n",
      "x9             0.3321      0.025     13.500      0.000       0.284       0.380\n",
      "x10            0.1554      0.027      5.833      0.000       0.103       0.208\n",
      "x11           -0.6427      0.072     -8.945      0.000      -0.784      -0.502\n",
      "x12            0.5118      0.040     12.792      0.000       0.433       0.590\n",
      "x13            0.1013      0.039      2.582      0.010       0.024       0.178\n",
      "x14            0.4611      0.043     10.704      0.000       0.377       0.546\n",
      "x15            0.4418      0.030     14.648      0.000       0.383       0.501\n",
      "x16           -0.0357      0.056     -0.633      0.527      -0.146       0.075\n",
      "==============================================================================\n"
     ]
    }
   ],
   "source": [
    "# Fit logistic regression model\n",
    "LogRegression = sm.Logit(y_train, x_train)\n",
    "\n",
    "# Obtain the results summary\n",
    "result = LogRegression.fit(maxiter=1000)\n",
    "\n",
    "# Print the summary\n",
    "print(result.summary())"
   ]
  },
  {
   "cell_type": "markdown",
   "id": "615713b0-3a36-46c2-870c-da0ed930fe4b",
   "metadata": {},
   "source": [
    "* The significance of the Model : since the p-value = 0 is less than 0.05 we can assume that  the overall logistic regression is significant.\n",
    "* The significance of the variables : we can't assume that all the variables are significant predictors because some variables have p-value greater than 0.05 ( x5, x13, x16 ...)\n"
   ]
  },
  {
   "cell_type": "code",
   "execution_count": 198,
   "id": "b782e3fb-9a9b-44e1-a3ef-32614acc0cd2",
   "metadata": {},
   "outputs": [
    {
     "name": "stdout",
     "output_type": "stream",
     "text": [
      "[0.00000000e+000 3.84420762e-015 2.92210019e-070 1.50083722e-108\n",
      " 2.49313711e-001 2.52982655e-057 1.51584664e-070 3.30273864e-031\n",
      " 1.56254120e-041 5.43717456e-009 3.71356083e-019 1.82322729e-037\n",
      " 9.81729849e-003 9.79384658e-027 1.38394267e-048 5.26735947e-001]\n"
     ]
    }
   ],
   "source": [
    "print(result.pvalues)"
   ]
  },
  {
   "cell_type": "markdown",
   "id": "c41a618f-342b-4fe3-8730-7089b3e16cfe",
   "metadata": {},
   "source": [
    "## Step 2 :  Making a prediction for a new unseen data"
   ]
  },
  {
   "cell_type": "code",
   "execution_count": 206,
   "id": "d2aa54ef-8b44-43b9-9eb3-5f9343fb4b25",
   "metadata": {},
   "outputs": [
    {
     "name": "stdout",
     "output_type": "stream",
     "text": [
      "F1 Score: 0.8800705467372134\n",
      "Accuracy: 0.8793524062985141\n"
     ]
    }
   ],
   "source": [
    "\n",
    "# 1.  logistic regression model\n",
    "model = LogisticRegression()\n",
    "model.fit(x_train, y_train)\n",
    "\n",
    "# 2. Making predictions on the test data\n",
    "predictions = model.predict(x_test)\n",
    "\n",
    "# 3. Evaluating the model with F1-SCORE\n",
    "f1 = f1_score(y_test, predictions)\n",
    "print(\"F1 Score:\", f1)\n",
    "accuracy = accuracy_score(y_test,predictions )\n",
    "\n",
    "print(\"Accuracy:\", accuracy)\n"
   ]
  },
  {
   "cell_type": "markdown",
   "id": "ab01b4de-b239-49e0-b486-68ba000fe921",
   "metadata": {},
   "source": [
    "Our F1-SCORE and Accuracy PROVE the PERFORMANCE of our logistic regression model"
   ]
  },
  {
   "cell_type": "markdown",
   "id": "b36b7fd8-d869-4b00-8e05-5e028f24d89a",
   "metadata": {},
   "source": [
    "## Step 3 :  dropping the non-significant variables & reevaluating the Model"
   ]
  },
  {
   "cell_type": "markdown",
   "id": "bb3ff822-0cfe-44ce-8689-6a66fc693d80",
   "metadata": {},
   "source": [
    "####  Removing non-significant variables from the feature set"
   ]
  },
  {
   "cell_type": "code",
   "execution_count": 200,
   "id": "04602186-632e-4b1e-b34d-a881ebfed4fc",
   "metadata": {},
   "outputs": [],
   "source": [
    "X_train = pd.DataFrame(x_train)\n",
    "X_test = pd.DataFrame(x_test)\n",
    "# Getting the indices of non-significant variables\n",
    "non_significant_indices = [i for i, p_value in enumerate(result.pvalues) if p_value > 0.05]\n",
    "\n",
    "# Getting the names of non-significant variables\n",
    "non_significant_variables = X_train.columns[non_significant_indices]\n",
    "\n",
    "# Dropping the non-significant variables from x_train\n",
    "x_train_reduced = X_train.drop(columns=non_significant_variables)\n",
    "x_test_reduced = X_test.drop(columns=non_significant_variables)\n"
   ]
  },
  {
   "cell_type": "markdown",
   "id": "2945bba3-059f-4cb0-9ae2-c6656207f5e8",
   "metadata": {},
   "source": [
    "### Rerunning & Reevaluating the Model "
   ]
  },
  {
   "cell_type": "code",
   "execution_count": 207,
   "id": "c7a6cf24-1bf2-46d2-b4f5-a2fb776679f3",
   "metadata": {},
   "outputs": [
    {
     "name": "stdout",
     "output_type": "stream",
     "text": [
      "The new F1 score : 0.8794169611307421\n",
      "The new Accuracy: 0.8789088489687292\n"
     ]
    }
   ],
   "source": [
    "# 1.  logistic regression model\n",
    "model = LogisticRegression()\n",
    "model.fit(x_train_reduced, y_train)\n",
    "\n",
    "# 2. Making predictions on the test data\n",
    "predictions = model.predict(x_test_reduced)\n",
    "\n",
    "# 3. Evaluating the model with F1-SCORE\n",
    "f1 = f1_score(y_test, predictions)\n",
    "print(\"The new F1 score :\", f1)\n",
    "accuracy = accuracy_score(y_test, predictions)\n",
    "\n",
    "print(\"The new Accuracy:\", accuracy)"
   ]
  },
  {
   "cell_type": "markdown",
   "id": "11740469-3c80-4fc8-bb5b-a0b330f24488",
   "metadata": {},
   "source": [
    "### Conclusion "
   ]
  },
  {
   "cell_type": "markdown",
   "id": "72e7c735-a336-4292-8884-6a5af08b5f37",
   "metadata": {},
   "source": [
    "After removing non-significant variables from the logistic regression model, the performance metrics showed little change. This indicates that the remaining variables already captured the essential information for prediction."
   ]
  },
  {
   "cell_type": "code",
   "execution_count": null,
   "id": "4ae04426-30a9-4c0d-9a5d-5126be0c088e",
   "metadata": {},
   "outputs": [],
   "source": []
  }
 ],
 "metadata": {
  "kernelspec": {
   "display_name": "Python 3 (ipykernel)",
   "language": "python",
   "name": "python3"
  },
  "language_info": {
   "codemirror_mode": {
    "name": "ipython",
    "version": 3
   },
   "file_extension": ".py",
   "mimetype": "text/x-python",
   "name": "python",
   "nbconvert_exporter": "python",
   "pygments_lexer": "ipython3",
   "version": "3.12.3"
  }
 },
 "nbformat": 4,
 "nbformat_minor": 5
}
